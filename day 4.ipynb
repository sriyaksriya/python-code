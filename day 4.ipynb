{
 "cells": [
  {
   "cell_type": "code",
   "execution_count": 1,
   "id": "4e3570fd-6fbf-4e94-a584-22c04660aef6",
   "metadata": {},
   "outputs": [
    {
     "name": "stdin",
     "output_type": "stream",
     "text": [
      " 1\n",
      " 2\n"
     ]
    },
    {
     "name": "stdout",
     "output_type": "stream",
     "text": [
      "Sum:  3\n",
      "Subtraction:  -1\n",
      "Multiplication:  2\n",
      "Division:  0.5\n",
      "Modules:  1\n",
      "Power:  1\n"
     ]
    }
   ],
   "source": [
    "#arithematic operators\n",
    "a=int(input())\n",
    "b=int(input())\n",
    "\n",
    "#addition\n",
    "print ('Sum: ', a + b)  \n",
    "\n",
    "# subtraction\n",
    "print ('Subtraction: ', a - b)   \n",
    "\n",
    "# multiplication\n",
    "print ('Multiplication: ', a * b)  \n",
    "\n",
    "# division\n",
    "print ('Division: ', a / b) \n",
    "\n",
    "# modules\n",
    "print ('Modules: ', a % b)  \n",
    "\n",
    "# a to the power b\n",
    "print ('Power: ', a ** b)"
   ]
  },
  {
   "cell_type": "code",
   "execution_count": 2,
   "id": "4bebbcb3-ea0a-4e64-b381-32314a8802bb",
   "metadata": {},
   "outputs": [
    {
     "name": "stdin",
     "output_type": "stream",
     "text": [
      "enter a character: 2\n"
     ]
    },
    {
     "name": "stdout",
     "output_type": "stream",
     "text": [
      "numeric character\n"
     ]
    }
   ],
   "source": [
    "#identifying \n",
    "a=input(\"enter a character:\")\n",
    "if a.islower():\n",
    "    print(\"lowercase character\")\n",
    "else:\n",
    "    if a.isupper():\n",
    "        print(\"uppercase character\")\n",
    "    else:\n",
    "        if a.isdigit():\n",
    "            print(\"numeric character\")\n",
    "        else:\n",
    "            print(\"special character\")"
   ]
  },
  {
   "cell_type": "code",
   "execution_count": 3,
   "id": "1c86688b-f6f5-4011-963c-d7b69eb1ed57",
   "metadata": {},
   "outputs": [
    {
     "name": "stdin",
     "output_type": "stream",
     "text": [
      "Enter a string:  1232\n"
     ]
    },
    {
     "name": "stdout",
     "output_type": "stream",
     "text": [
      "The string is not a palindrome\n"
     ]
    }
   ],
   "source": [
    "#palindrome\n",
    "string = input(\"Enter a string: \")\n",
    "\n",
    "if string == string[::-1]:\n",
    "    print(\"The string is a palindrome\")\n",
    "else:\n",
    "    print(\"The string is not a palindrome\")"
   ]
  },
  {
   "cell_type": "code",
   "execution_count": 4,
   "id": "2962ece9-14c3-4c24-81ec-bf817afab5fc",
   "metadata": {},
   "outputs": [
    {
     "name": "stdout",
     "output_type": "stream",
     "text": [
      "6\n",
      "4\n",
      "3\n",
      "2\n",
      "1\n"
     ]
    }
   ],
   "source": [
    "#reverse no.\n",
    "a=[1,2,3,4,6]\n",
    "for x in range(-1,-1*(len(a)+1),-1):\n",
    "    print(a[x])"
   ]
  },
  {
   "cell_type": "code",
   "execution_count": 7,
   "id": "d35c22d5-e16c-411b-8038-623e8c6ebcff",
   "metadata": {},
   "outputs": [
    {
     "name": "stdin",
     "output_type": "stream",
     "text": [
      "enter a number: 1\n"
     ]
    },
    {
     "name": "stdout",
     "output_type": "stream",
     "text": [
      "factorial of the given number is: 1\n"
     ]
    }
   ],
   "source": [
    "#factorial number\n",
    "n=int(input(\"enter a number:\"))\n",
    "fact=1\n",
    "if n>=1:\n",
    "    for i in range(1,n+1):\n",
    "        fact=fact*i\n",
    "print(\"factorial of the given number is:\",fact)"
   ]
  },
  {
   "cell_type": "code",
   "execution_count": 8,
   "id": "d0bdc240-4871-4275-bfe8-6332fbc607be",
   "metadata": {},
   "outputs": [
    {
     "name": "stdout",
     "output_type": "stream",
     "text": [
      "Input List: [1, 2, 3, 'a', 4.5, 'b', 5]\n",
      "Ignoring non-numeric value: a\n",
      "Ignoring non-numeric value: b\n",
      "Sum of all numeric elements in the list: 15.5\n"
     ]
    }
   ],
   "source": [
    "def calculate_sum(input_list):\n",
    "    total = 0\n",
    "    for element in input_list:\n",
    "        if isinstance(element, (int, float)):\n",
    "            total += element\n",
    "        else:\n",
    "            print(f\"Ignoring non-numeric value: {element}\")\n",
    "    return total\n",
    "\n",
    "input_list = [1, 2, 3, 'a', 4.5, 'b', 5]\n",
    "print(\"Input List:\", input_list)\n",
    "\n",
    "sum_of_list = calculate_sum(input_list)\n",
    "print(\"Sum of all numeric elements in the list:\", sum_of_list)"
   ]
  },
  {
   "cell_type": "code",
   "execution_count": 9,
   "id": "a7a45963-bb6f-4ff4-83cf-d074f7676a84",
   "metadata": {},
   "outputs": [
    {
     "name": "stdin",
     "output_type": "stream",
     "text": [
      "Enter the student's name:  syeda\n",
      "Enter marks for Subject 1:  90\n",
      "Enter marks for Subject 2:  98\n",
      "Enter marks for Subject 3:  97\n"
     ]
    },
    {
     "name": "stdout",
     "output_type": "stream",
     "text": [
      "{'Subject 1': 90.0, 'Subject 2': 98.0, 'Subject 3': 97.0, 'Average Grade': 95.0}\n",
      "Average Grade: 95.0\n"
     ]
    }
   ],
   "source": [
    "student = {}\n",
    "name = input(\"Enter the student's name: \")\n",
    "marks = []\n",
    "\n",
    "for subject in range(1, 4):\n",
    "    mark = float(input(f\"Enter marks for Subject {subject}: \"))\n",
    "    marks.append(mark)\n",
    "\n",
    "average_grade = sum(marks) / len(marks)\n",
    "student[name] = {'Subject 1': marks[0], 'Subject 2': marks[1], 'Subject 3': marks[2], 'Average Grade': average_grade}\n",
    "\n",
    "print(student[name])\n",
    "print(\"Average Grade:\",average_grade)"
   ]
  },
  {
   "cell_type": "code",
   "execution_count": 14,
   "id": "b92c5cbf-95e2-4a96-bdf5-9c8293b61acd",
   "metadata": {},
   "outputs": [
    {
     "name": "stdin",
     "output_type": "stream",
     "text": [
      "enter the number: 9\n"
     ]
    },
    {
     "name": "stdout",
     "output_type": "stream",
     "text": [
      "9 is not prime\n"
     ]
    }
   ],
   "source": [
    "#prime number or not\n",
    "num=int(input(\"enter the number:\"))\n",
    "for i in range(2,num):\n",
    "    if(num%i)==0:\n",
    "        print(num,\"is not prime\")\n",
    "        break\n",
    "else:\n",
    "     print(num,\"is prime\")"
   ]
  },
  {
   "cell_type": "code",
   "execution_count": 3,
   "id": "074930b3-24e4-4a5f-b324-633f4a5d24e2",
   "metadata": {},
   "outputs": [
    {
     "name": "stdin",
     "output_type": "stream",
     "text": [
      "enter the number 4\n"
     ]
    }
   ],
   "source": [
    "a=int(input(\"enter the number\"))\n",
    "for i in range(2,int(a/2)):\n",
    "    if (a%i)==0:\n",
    "        print(\"a is not a prime\")\n",
    "        break\n",
    "    else:\n",
    "        print(\"a is prime\")\n",
    "        "
   ]
  },
  {
   "cell_type": "code",
   "execution_count": 4,
   "id": "89365343-2246-4db5-b704-ebefde45092f",
   "metadata": {
    "scrolled": true
   },
   "outputs": [
    {
     "ename": "NameError",
     "evalue": "name 'create_file' is not defined",
     "output_type": "error",
     "traceback": [
      "\u001b[1;31m---------------------------------------------------------------------------\u001b[0m",
      "\u001b[1;31mNameError\u001b[0m                                 Traceback (most recent call last)",
      "Cell \u001b[1;32mIn[4], line 5\u001b[0m\n\u001b[0;32m      2\u001b[0m     filename \u001b[38;5;241m=\u001b[39m \u001b[38;5;124m\"\u001b[39m\u001b[38;5;124mexample.txt\u001b[39m\u001b[38;5;124m\"\u001b[39m\n\u001b[0;32m      3\u001b[0m     new_filename \u001b[38;5;241m=\u001b[39m \u001b[38;5;124m\"\u001b[39m\u001b[38;5;124mnew_example.txt\u001b[39m\u001b[38;5;124m\"\u001b[39m\n\u001b[1;32m----> 5\u001b[0m \u001b[43mcreate_file\u001b[49m(filename)\n\u001b[0;32m      6\u001b[0m read_file(filename)\n\u001b[0;32m      7\u001b[0m append_file(filename, \u001b[38;5;124m\"\u001b[39m\u001b[38;5;124mthis is some additional text.\u001b[39m\u001b[38;5;130;01m\\n\u001b[39;00m\u001b[38;5;124m\"\u001b[39m)\n",
      "\u001b[1;31mNameError\u001b[0m: name 'create_file' is not defined"
     ]
    }
   ],
   "source": [
    "if __name__ == '__main__':\n",
    "    filename = \"example.txt\"\n",
    "    new_filename = \"new_example.txt\"\n",
    "\n",
    "create_file(filename)\n",
    "read_file(filename)\n",
    "append_file(filename, \"this is some additional text.\\n\")\n",
    "read_file(filename)\n",
    "rename_file(filename, new_filename)\n",
    "read_file(new_filename)\n",
    "#delete_file(new_filename)\n"
   ]
  },
  {
   "cell_type": "code",
   "execution_count": 12,
   "id": "40694607-6c64-451d-86fe-84b832359db3",
   "metadata": {},
   "outputs": [],
   "source": [
    "import os\n",
    "with open(\"file1.txt\",'w') as f:\n",
    "    f.write(\"this is first text in file\")\n",
    "    f.close()"
   ]
  },
  {
   "cell_type": "code",
   "execution_count": 13,
   "id": "30c7ff87-cfe5-4eac-8719-788df9c8ae30",
   "metadata": {},
   "outputs": [],
   "source": [
    "import os\n",
    "os.remove(\"file1.txt\")"
   ]
  },
  {
   "cell_type": "code",
   "execution_count": 14,
   "id": "23f0b52d-9ca0-43a1-ab9e-585e16c7d4d6",
   "metadata": {},
   "outputs": [],
   "source": [
    "import os\n",
    "with open(\"file1.txt\",'w') as f:\n",
    "    f.write(\"this is the second text in file\")\n",
    "    f.close()"
   ]
  },
  {
   "cell_type": "code",
   "execution_count": 15,
   "id": "08788eca-d86d-48fc-8a97-6e7a5600837c",
   "metadata": {},
   "outputs": [],
   "source": [
    "import os\n",
    "os.remove(\"file1.txt\")"
   ]
  },
  {
   "cell_type": "code",
   "execution_count": 19,
   "id": "afea7efc-ee9d-49f5-805b-25296ac7fa6b",
   "metadata": {},
   "outputs": [],
   "source": [
    "file_name =\"anything.txt\"\n",
    "\n",
    "with open(file_name, \"w\") as f:\n",
    "    f.write(\"syeda tanzeem\\n\")\n",
    "    f.write(\"this is a new file.\")"
   ]
  },
  {
   "cell_type": "code",
   "execution_count": 20,
   "id": "1916d997-defd-45c3-8bef-704f258087c5",
   "metadata": {},
   "outputs": [],
   "source": [
    "import os\n",
    "os.remove(\"anything.txt\")"
   ]
  },
  {
   "cell_type": "code",
   "execution_count": null,
   "id": "d32d8107-41fe-4ad8-997e-ed55f77e873c",
   "metadata": {},
   "outputs": [],
   "source": []
  }
 ],
 "metadata": {
  "kernelspec": {
   "display_name": "Python 3 (ipykernel)",
   "language": "python",
   "name": "python3"
  },
  "language_info": {
   "codemirror_mode": {
    "name": "ipython",
    "version": 3
   },
   "file_extension": ".py",
   "mimetype": "text/x-python",
   "name": "python",
   "nbconvert_exporter": "python",
   "pygments_lexer": "ipython3",
   "version": "3.12.3"
  }
 },
 "nbformat": 4,
 "nbformat_minor": 5
}
