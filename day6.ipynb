{
 "cells": [
  {
   "cell_type": "code",
   "execution_count": 22,
   "id": "49e32a2a-f12f-42c8-b095-2f7d7397e2c5",
   "metadata": {},
   "outputs": [
    {
     "name": "stdout",
     "output_type": "stream",
     "text": [
      "Car details: v8 ABC123 500000 Red Sedan 5 200\n",
      "Truck details: Diesel XYZ456 80000 BLUE 2 5000\n"
     ]
    }
   ],
   "source": [
    "class Vehicle:\n",
    "    def __init__(self, e, rp, p, c):\n",
    "        self.engine = e\n",
    "        self.reg_plate = rp\n",
    "        self.price = p\n",
    "        self.colour = c\n",
    "\n",
    "class Car(Vehicle):\n",
    "    def __init__(self, e, rp, p, c, t, nop, ms):\n",
    "        super().__init__(e, rp, p, c)\n",
    "        self.type = t\n",
    "        self.no_of_passenger = nop\n",
    "        self.max_speed = ms\n",
    "\n",
    "class Truck(Vehicle):\n",
    "    def __init__(self, e, rp, p, c, noa, lc):\n",
    "        super().__init__(e, rp, p, c)\n",
    "        self.no_of_axle = noa\n",
    "        self.load_capacity = lc\n",
    "\n",
    "obj1 = Vehicle(\"v8\", \"ACD234\", 5000, \"ORANGE\")\n",
    "obj2 = Car(\"v8\", \"ABC123\", 500000, \"Red\", \"Sedan\", 5, 200)\n",
    "obj3 = Truck(\"Diesel\", \"XYZ456\", 80000, \"BLUE\", 2, 5000)\n",
    "\n",
    "print(\"Car details:\", obj2.engine, obj2.reg_plate, obj2.price, obj2.colour, obj2.type, obj2.no_of_passenger, obj2.max_speed)\n",
    "print(\"Truck details:\", obj3.engine, obj3.reg_plate, obj3.price, obj3.colour, obj3.no_of_axle, obj3.load_capacity)"
   ]
  },
  {
   "cell_type": "code",
   "execution_count": 37,
   "id": "0e0e70b3-b02b-4ab8-a647-f4224a838f52",
   "metadata": {},
   "outputs": [
    {
     "name": "stdout",
     "output_type": "stream",
     "text": [
      "staff details: \n",
      " 13 \n",
      " tanzeem \n",
      " 23000 \n",
      " wfhm \n",
      " res\n",
      "developer details: \n",
      " 14 \n",
      " unissa \n",
      " 450000 \n",
      " 16 \n",
      " ai \n",
      " 15\n",
      "developer details: \n",
      " 16 \n",
      " syed \n",
      " 309990 \n",
      " usa \n",
      " mark\n"
     ]
    }
   ],
   "source": [
    "class employee:\n",
    "    def __init__(self,eid,en,es):\n",
    "        self.eid = eid\n",
    "        self.ename = en\n",
    "        self.esalary = es\n",
    "class staff(employee):\n",
    "    def __init__(self,eid,en,es,wt,wp):\n",
    "        super().__init__(eid,en,es)\n",
    "        self.worktype = wt\n",
    "        self.workpr = wp\n",
    "class developer(employee):\n",
    "    def __init__(self,eid,en,es,m,t,e):\n",
    "        super().__init__(eid,en,es)\n",
    "        self.module = m\n",
    "        self.tech = t\n",
    "        self.experience =e\n",
    "class manager(employee):\n",
    "    def __init__(self,eid,en,es,p,cn):\n",
    "        super().__init__(eid,en,es)\n",
    "        self.project = p\n",
    "        self.clientname = cn\n",
    "obj1=employee(12,\"syeda\",1200000)\n",
    "obj2=staff(13,\"tanzeem\",23000,\"wfhm\",\"res\")\n",
    "obj3=developer(14,\"unissa\",450000,16,\"ai\",15)\n",
    "obj4=manager(16,\"syed\",309990,\"usa\",\"mark\")\n",
    "print(\"staff details:\",\"\\n\",obj2.eid,\"\\n\", obj2.ename,\"\\n\",obj2.esalary,\"\\n\",obj2.worktype,\"\\n\",obj2.workpr)\n",
    "print(\"developer details:\",\"\\n\", obj3.eid,\"\\n\", obj3.ename,\"\\n\", obj3.esalary,\"\\n\", obj3.module,\"\\n\",obj3.tech,\"\\n\",obj3.experience)\n",
    "print(\"developer details:\",\"\\n\", obj4.eid,\"\\n\", obj4.ename,\"\\n\", obj4.esalary,\"\\n\",obj4.project,\"\\n\",obj4.clientname)\n",
    "\n",
    "\n",
    "\n",
    "        \n",
    "\n",
    "    "
   ]
  },
  {
   "cell_type": "code",
   "execution_count": 55,
   "id": "0156ee2b-35dc-4538-b110-24f771bfe747",
   "metadata": {},
   "outputs": [
    {
     "name": "stdout",
     "output_type": "stream",
     "text": [
      "* \n",
      "* * \n",
      "* * * \n",
      "* * * * \n",
      "* * * * * \n"
     ]
    }
   ],
   "source": [
    "#half pyramid \n",
    "for x in range(0,5):\n",
    "    \n",
    "    for y in range(0,x+1):\n",
    "          print(\"*\" , end=\" \")\n",
    "    print()"
   ]
  },
  {
   "cell_type": "code",
   "execution_count": 56,
   "id": "872b9d9d-a387-47d9-9077-013c4d3f93b3",
   "metadata": {},
   "outputs": [
    {
     "name": "stdout",
     "output_type": "stream",
     "text": [
      "* * * * * \n",
      "* * * * * \n",
      "* * * * * \n",
      "* * * * * \n",
      "* * * * * \n"
     ]
    }
   ],
   "source": [
    "for x in range(0,5):\n",
    "    \n",
    "    for y in range(0,y+1):\n",
    "          print(\"*\" , end=\" \")\n",
    "    print()"
   ]
  },
  {
   "cell_type": "code",
   "execution_count": 73,
   "id": "a4479655-219b-492e-b495-77a033e136f7",
   "metadata": {},
   "outputs": [
    {
     "name": "stdin",
     "output_type": "stream",
     "text": [
      "enter the number of rows: 5\n"
     ]
    },
    {
     "name": "stdout",
     "output_type": "stream",
     "text": [
      "1 2 3 4 5 \n",
      "1 2 3 4 5 \n",
      "1 2 3 4 5 \n",
      "1 2 3 4 5 \n",
      "1 2 3 4 5 \n"
     ]
    }
   ],
   "source": [
    "rows=int(input(\"enter the number of rows:\"))\n",
    "for i in range(1,rows+1):\n",
    "    for j in range(1,j):\n",
    "        print(j,end=\" \")\n",
    "    print()\n",
    "    "
   ]
  },
  {
   "cell_type": "code",
   "execution_count": 72,
   "id": "8812f4b1-5d42-4d1a-b4a9-41095acb32ef",
   "metadata": {},
   "outputs": [
    {
     "name": "stdin",
     "output_type": "stream",
     "text": [
      "enter the number of rows: 5\n"
     ]
    },
    {
     "name": "stdout",
     "output_type": "stream",
     "text": [
      "1 \n",
      "1 2 \n",
      "1 2 3 \n",
      "1 2 3 4 \n",
      "1 2 3 4 5 \n"
     ]
    }
   ],
   "source": [
    "#numeric pattern\n",
    "rows=int(input(\"enter the number of rows:\"))\n",
    "for i in range(1,rows+1):\n",
    "    for j in range(1,i+1):\n",
    "        print(j,end=\" \")\n",
    "    print()"
   ]
  },
  {
   "cell_type": "code",
   "execution_count": 84,
   "id": "ae2c886d-100b-41e7-8b49-ee891e21f1b2",
   "metadata": {},
   "outputs": [
    {
     "name": "stdin",
     "output_type": "stream",
     "text": [
      "enter the number of rows :  8\n"
     ]
    },
    {
     "name": "stdout",
     "output_type": "stream",
     "text": [
      "              *  \n",
      "             * *  \n",
      "            * * *  \n",
      "           * * * *  \n",
      "          * * * * *  \n",
      "         * * * * * *  \n",
      "        * * * * * * *  \n",
      "       * * * * * * * *  \n"
     ]
    }
   ],
   "source": [
    "#full pyramid\n",
    "rows = int(input(\"enter the number of rows : \")) \n",
    "m = (2 * rows) - 2\n",
    "for i in range(0, rows):\n",
    "    for j in range(0, m):\n",
    "        print(end=\" \")\n",
    "    m = m - 1\n",
    "    for j in range(0, i + 1):\n",
    "        print(\"* \", end='')\n",
    "    print(\" \")"
   ]
  },
  {
   "cell_type": "code",
   "execution_count": 86,
   "id": "9eee5c7c-1f26-4c77-9634-1ecfd3ed210d",
   "metadata": {},
   "outputs": [
    {
     "name": "stdin",
     "output_type": "stream",
     "text": [
      "enter the number of rows :  5\n"
     ]
    },
    {
     "name": "stdout",
     "output_type": "stream",
     "text": [
      "********j \n",
      "*******jj \n",
      "******jjj \n",
      "*****jjjj \n",
      "****jjjjj \n"
     ]
    }
   ],
   "source": [
    "rows = int(input(\"enter the number of rows : \")) \n",
    "m = (2 * rows) - 2\n",
    "for i in range(0, rows):\n",
    "    for j in range(0, m):\n",
    "        print(end=\"*\")\n",
    "    m = m - 1\n",
    "    for j in range(0, i + 1):\n",
    "        print(\"j\", end='')\n",
    "    print(\" \")"
   ]
  },
  {
   "cell_type": "code",
   "execution_count": 87,
   "id": "96446142-1f13-4978-a374-79fda65be7b0",
   "metadata": {},
   "outputs": [
    {
     "name": "stdout",
     "output_type": "stream",
     "text": [
      "5 4 3 2 1 \n",
      "4 3 2 1 \n",
      "3 2 1 \n",
      "2 1 \n",
      "1 \n",
      "\n"
     ]
    }
   ],
   "source": [
    "#inverted numeric pattern\n",
    "for i in range(0, 5 + 1):  \n",
    "    for j in range(5 - i, 0, -1):  \n",
    "        print(j, end=\" \")  \n",
    "    print()"
   ]
  },
  {
   "cell_type": "code",
   "execution_count": 90,
   "id": "9e0740ca-dabf-42b6-bc34-0a3990fcdd8a",
   "metadata": {},
   "outputs": [
    {
     "name": "stdout",
     "output_type": "stream",
     "text": [
      "*         \n",
      "* *       \n",
      "*   *     \n",
      "*     *   \n",
      "* * * * * \n"
     ]
    }
   ],
   "source": [
    "n = 5\n",
    "for i in range(1, n+1):\n",
    "    for j in range(1, n+1):\n",
    "        if (i == j) or (j == 1) or (i == n):\n",
    "            print(\"*\", end=\" \")\n",
    "        else:\n",
    "            print(\" \", end=\" \")\n",
    "    print()"
   ]
  },
  {
   "cell_type": "code",
   "execution_count": 91,
   "id": "933f6e82-c458-4fb7-8b3f-0a4d9411d246",
   "metadata": {},
   "outputs": [
    {
     "name": "stdout",
     "output_type": "stream",
     "text": [
      "     *\n",
      "    * *\n",
      "   *   *\n",
      "  *     *\n",
      " *********\n"
     ]
    }
   ],
   "source": [
    "for i in range(5):\n",
    "    for j in range(5-i):\n",
    "        print(' ', end='') \n",
    "    \n",
    "    for j in range(2*i+1):\n",
    "        if j==0 or j==2*i or i==5-1:\n",
    "            print('*',end='')\n",
    "        else:\n",
    "            print(' ', end='')\n",
    "    print()"
   ]
  },
  {
   "cell_type": "code",
   "execution_count": 92,
   "id": "9e2acbd2-4b32-4584-84fc-abc789bd6e80",
   "metadata": {},
   "outputs": [
    {
     "name": "stdout",
     "output_type": "stream",
     "text": [
      "* * * * *  \n",
      "* * * *  \n",
      "* * *  \n",
      "* *  \n",
      "*  \n",
      " \n"
     ]
    }
   ],
   "source": [
    "rows = 5\n",
    "for i in range(rows + 1, 0, -1):\n",
    "    for j in range(0, i - 1):\n",
    "        print(\"*\", end=' ')\n",
    "    print(\" \")"
   ]
  },
  {
   "cell_type": "code",
   "execution_count": 93,
   "id": "4600912b-0361-4ec4-a483-211d63306f4e",
   "metadata": {},
   "outputs": [
    {
     "name": "stdout",
     "output_type": "stream",
     "text": [
      "        * * * * * * \n",
      "         * * * * * \n",
      "          * * * * \n",
      "           * * * \n",
      "            * * \n",
      "             * \n"
     ]
    }
   ],
   "source": [
    "rows = 5\n",
    "k = 2 * rows - 2\n",
    "for i in range(rows, -1, -1):\n",
    "    for j in range(k, 0, -1):\n",
    "        print(end=\" \")\n",
    "    k = k + 1\n",
    "    for j in range(0, i + 1):\n",
    "        print(\"*\", end=\" \")\n",
    "    print(\"\")"
   ]
  },
  {
   "cell_type": "code",
   "execution_count": 94,
   "id": "cc637ad2-7dd9-4246-9e49-8e6e703bee42",
   "metadata": {},
   "outputs": [
    {
     "name": "stdout",
     "output_type": "stream",
     "text": [
      "* * * * * \n",
      "  * * * * \n",
      "    * * * \n",
      "      * * \n",
      "        * \n"
     ]
    }
   ],
   "source": [
    "rows = 5\n",
    "i = rows\n",
    "while i >= 1:\n",
    "    j = rows\n",
    "    while j > i:\n",
    "        print(' ', end=' ')\n",
    "        j -= 1\n",
    "    k = 1\n",
    "    while k <= i:\n",
    "        print('*', end=' ')\n",
    "        k += 1\n",
    "    print()\n",
    "    i -= 1"
   ]
  },
  {
   "cell_type": "code",
   "execution_count": 95,
   "id": "17a0922c-99ab-453f-b1be-ba16ccc288ba",
   "metadata": {},
   "outputs": [
    {
     "name": "stdout",
     "output_type": "stream",
     "text": [
      "* \n",
      "* * \n",
      "* * * \n",
      "* * * * \n",
      "* * * * * \n",
      "* * * * \n",
      "* * * \n",
      "* * \n",
      "* \n",
      "\n"
     ]
    }
   ],
   "source": [
    "#right star pattern star\n",
    "rows = 5\n",
    "for i in range(0, rows):\n",
    "    for j in range(0, i + 1):\n",
    "        print(\"*\", end=' ')\n",
    "    print(\"\\r\")\n",
    "\n",
    "for i in range(rows, 0, -1):\n",
    "    for j in range(0, i - 1):\n",
    "        print(\"*\", end=' ')\n",
    "    print(\"\\r\")"
   ]
  },
  {
   "cell_type": "code",
   "execution_count": 96,
   "id": "1efd0c2f-12bb-4e4a-97f7-e62378189cd0",
   "metadata": {},
   "outputs": [
    {
     "name": "stdout",
     "output_type": "stream",
     "text": [
      "* * * * * \n",
      " * * * * \n",
      "  * * * \n",
      "   * * \n",
      "    * \n",
      "    * \n",
      "   * * \n",
      "  * * * \n",
      " * * * * \n",
      "* * * * * \n"
     ]
    }
   ],
   "source": [
    "#sandglass pattern of star\n",
    "rows = 5\n",
    "i = 0\n",
    "while i <= rows - 1:\n",
    "    j = 0\n",
    "    while j < i:\n",
    "        # display space\n",
    "        print('', end=' ')\n",
    "        j += 1\n",
    "    k = i\n",
    "    while k <= rows - 1:\n",
    "        print('*', end=' ')\n",
    "        k += 1\n",
    "    print()\n",
    "    i += 1\n",
    "\n",
    "i = rows - 1\n",
    "while i >= 0:\n",
    "    j = 0\n",
    "    while j < i:\n",
    "        print('', end=' ')\n",
    "        j += 1\n",
    "    k = i\n",
    "    while k <= rows - 1:\n",
    "        print('*', end=' ')\n",
    "        k += 1\n",
    "    print('')\n",
    "    i -= 1"
   ]
  },
  {
   "cell_type": "code",
   "execution_count": 97,
   "id": "c14c2a3e-0b4a-4eb7-a227-fa5cb8ff4a9a",
   "metadata": {},
   "outputs": [
    {
     "name": "stdout",
     "output_type": "stream",
     "text": [
      "        * \n",
      "      *   *\n",
      "    *       *\n",
      "  *           *\n",
      "*               *\n",
      "  *             *\n",
      "    *         *\n",
      "      *     *\n",
      "        * \n"
     ]
    }
   ],
   "source": [
    "#diamond pattern star\n",
    "rows = 5\n",
    "i = 1\n",
    "while i <= rows:\n",
    "    j = rows\n",
    "    while j > i:\n",
    "        # display space\n",
    "        print(' ', end=' ')\n",
    "        j -= 1\n",
    "    print('*', end=' ')\n",
    "    k = 1\n",
    "    while k < 2 * (i - 1):\n",
    "        print(' ', end=' ')\n",
    "        k += 1\n",
    "    if i == 1:\n",
    "        print()\n",
    "    else:\n",
    "        print('*')\n",
    "    i += 1\n",
    "\n",
    "i = rows - 1\n",
    "while i >= 1:\n",
    "    j = rows\n",
    "    while j > i:\n",
    "        print(' ', end=' ')\n",
    "        j -= 1\n",
    "    print('*', end=' ')\n",
    "    k = 1\n",
    "    while k <= 2 * (i - 1):\n",
    "        print(' ', end=' ')\n",
    "        k += 1\n",
    "    if i == 1:\n",
    "        print()\n",
    "    else:\n",
    "        print('*')\n",
    "    i -= 1"
   ]
  },
  {
   "cell_type": "code",
   "execution_count": null,
   "id": "af86d246-1800-4147-ac99-c33c4acf0000",
   "metadata": {},
   "outputs": [],
   "source": []
  }
 ],
 "metadata": {
  "kernelspec": {
   "display_name": "Python 3 (ipykernel)",
   "language": "python",
   "name": "python3"
  },
  "language_info": {
   "codemirror_mode": {
    "name": "ipython",
    "version": 3
   },
   "file_extension": ".py",
   "mimetype": "text/x-python",
   "name": "python",
   "nbconvert_exporter": "python",
   "pygments_lexer": "ipython3",
   "version": "3.12.3"
  }
 },
 "nbformat": 4,
 "nbformat_minor": 5
}
