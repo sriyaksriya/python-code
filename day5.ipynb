{
 "cells": [
  {
   "cell_type": "code",
   "execution_count": 9,
   "id": "92034c51-6257-411b-b4a6-7c358a4fa58b",
   "metadata": {},
   "outputs": [],
   "source": [
    "#exception handling in files\n",
    "import os \n",
    "try:\n",
    "    with open(\"sample.txt\",'w') as f:\n",
    "        f.write(\"hello\")\n",
    "        pass\n",
    "except FileNotFoundError:\n",
    "    print(\"file not exist\")\n",
    "    "
   ]
  },
  {
   "cell_type": "code",
   "execution_count": null,
   "id": "7e70998c-3ddd-4047-b562-3073c1f5420f",
   "metadata": {},
   "outputs": [],
   "source": []
  },
  {
   "cell_type": "code",
   "execution_count": 13,
   "id": "22574e35-2520-4282-b533-3ac1629d4e2e",
   "metadata": {},
   "outputs": [
    {
     "name": "stdout",
     "output_type": "stream",
     "text": [
      "hello\n",
      "hey\n"
     ]
    }
   ],
   "source": [
    "import os\n",
    "try:\n",
    "    with open(\"sample.txt\",'w') as f:\n",
    "        f.write(\"hello\")\n",
    "except FileNotFoundError:\n",
    "    print(\"file not exist\")\n",
    "with open(\"sample.txt\",'r') as f:\n",
    "         a=f.read()\n",
    "         print(a)\n",
    "         a=a.replace(\"hello\",\"hey\")\n",
    "with open(\"sample.txt\",'w') as f:\n",
    "    f.write(a)\n",
    "    print(a)"
   ]
  },
  {
   "cell_type": "code",
   "execution_count": null,
   "id": "b18611d7-e9e0-42ab-b91a-7a135b6e812a",
   "metadata": {},
   "outputs": [],
   "source": [
    "#oops concept\n",
    "#class classname:\n",
    "#def functionname()"
   ]
  },
  {
   "cell_type": "code",
   "execution_count": 16,
   "id": "752f5750-cdce-4262-923a-1a1e1fefcad6",
   "metadata": {},
   "outputs": [
    {
     "name": "stdout",
     "output_type": "stream",
     "text": [
      "hey welcome to dell laptop\n",
      "876\n"
     ]
    }
   ],
   "source": [
    "class laptop:\n",
    "    a=876\n",
    "    def config(self):\n",
    "        print(\"hey welcome to dell laptop\")\n",
    "dell=laptop()\n",
    "dell.config()\n",
    "print(dell.a)"
   ]
  },
  {
   "cell_type": "code",
   "execution_count": 21,
   "id": "6ef6fecf-b34f-4d4e-b764-5e1d483c6f3b",
   "metadata": {},
   "outputs": [],
   "source": [
    "class laptop:\n",
    "    a=0 #gloabl or class variable\n",
    "    def config(self):\n",
    "        #self is universal to all the functions or geneerates a error\n",
    "        print(\"this laptop have 15.6 HD display\")\n",
    "        def_init_(self,value)\n",
    "        self.b=value\n",
    "        Acer=laptop(60)\n",
    "        print(Acer.a)\n",
    "        print(Acer.b)"
   ]
  },
  {
   "cell_type": "code",
   "execution_count": null,
   "id": "0636ed8f-1ef4-4b8b-ad8b-3deb0afbbe56",
   "metadata": {},
   "outputs": [],
   "source": [
    "#create a laptop class with variable as processor ,ram and storage\n",
    "#create function to print the configuration of the laptops\n",
    "#create 3 objects of laptop with diff brand and display its configuration"
   ]
  },
  {
   "cell_type": "code",
   "execution_count": 82,
   "id": "be4539b7-42d5-4f32-bfd3-a629c8c919b5",
   "metadata": {},
   "outputs": [
    {
     "name": "stdout",
     "output_type": "stream",
     "text": [
      "configuration of the laptop is:\n",
      "processor i5\n",
      "ram 8\n",
      "storage 512\n",
      "configuration of the laptop is:\n",
      "processor i5\n",
      "ram 8\n",
      "storage 512\n",
      "configuration of the laptop is:\n",
      "processor i5\n",
      "ram 8\n",
      "storage 512\n"
     ]
    }
   ],
   "source": [
    "class Laptop:\n",
    "    def __init__(self,p,r,s):\n",
    "                self.processor=p\n",
    "                self.ram=r\n",
    "                self.storage=s\n",
    "\n",
    "    def config(self):\n",
    "        print(\"configuration of the laptop is:\")\n",
    "        print(\"processor\",self.processor)\n",
    "        print(\"ram\",self.ram)\n",
    "        print(\"storage\",self.storage)\n",
    "\n",
    "if __name__==\"__main__\":\n",
    "    hp = Laptop(\"i5\",8,512)\n",
    "    dell = Laptop(\"i5\",8,512)\n",
    "    asus = Laptop(\"i5\",8,512)\n",
    "    hp.config()\n",
    "    dell.config()\n",
    "    asus.config()\n",
    "        "
   ]
  },
  {
   "cell_type": "code",
   "execution_count": 80,
   "id": "90565d52-d0b5-4b87-95cb-5ffd7e1599f6",
   "metadata": {},
   "outputs": [
    {
     "name": "stdout",
     "output_type": "stream",
     "text": [
      "the marks are:\n",
      "maths= 80\n",
      "biology= 81\n",
      "chemistry= 82\n",
      "hindi= 83\n",
      "english= 84\n",
      "average= 82.0\n"
     ]
    }
   ],
   "source": [
    "#create a class student which can hold marks of 5 subjects and also create a functions to print the marks and calculate the average of 5 subjects\n",
    "class student:\n",
    "    def __init__(self,math,bio,chem,hin,eng):\n",
    "                   self.maths=math\n",
    "                   self.biology=bio\n",
    "                   self.chemistry=chem\n",
    "                   self.hindi=hin\n",
    "                   self.english=eng\n",
    "    def marks(self):\n",
    "        print(\"the marks are:\")\n",
    "        print(\"maths=\",self.maths)\n",
    "        print(\"biology=\",self.biology)\n",
    "        print(\"chemistry=\",self.chemistry)\n",
    "        print(\"hindi=\",self.hindi)\n",
    "        print(\"english=\",self.english)\n",
    "\n",
    "    def avg(self):\n",
    "           self.avg=((self.maths+self.biology+self.chemistry+self.hindi+self.english)/5)\n",
    "           print(\"average=\",self.avg)\n",
    "if __name__==\"__main__\":\n",
    "  s=student(80,81,82,83,84)\n",
    "  s.marks()\n",
    "  s.avg()  \n",
    "        \n",
    "    "
   ]
  },
  {
   "cell_type": "code",
   "execution_count": 8,
   "id": "3598342c-4cc0-4b8b-8504-3338c2f19484",
   "metadata": {},
   "outputs": [
    {
     "name": "stdout",
     "output_type": "stream",
     "text": [
      "constructor of class C\n",
      "constructor of class A\n",
      "constructor of class B\n",
      "constructor of class D\n"
     ]
    }
   ],
   "source": [
    "class a:\n",
    "    def __init__(self):\n",
    "        print(\"constructor of class A\")\n",
    "class b(a):\n",
    "    def __init__(self):\n",
    "        print(\"constructor of class B\")\n",
    "class c(a):\n",
    "    def __init__(self):\n",
    "        print(\"constructor of class C\")    \n",
    "class d(a):\n",
    "    def __init__(self):\n",
    "        print(\"constructor of class D\")\n",
    "if __name__==\"__main__\":\n",
    "    obj1=c()\n",
    "    obj2=a()\n",
    "    obj3=b()\n",
    "    obj4=d()"
   ]
  },
  {
   "cell_type": "code",
   "execution_count": 10,
   "id": "741728c3-c8a7-46eb-a405-be83d622736f",
   "metadata": {},
   "outputs": [
    {
     "name": "stdout",
     "output_type": "stream",
     "text": [
      "constructor of class B\n"
     ]
    }
   ],
   "source": [
    "class a:\n",
    "    def __init__(self):\n",
    "        print(\"constructor of class A\")\n",
    "class b(a):\n",
    "    def __init__(self):\n",
    "        print(\"constructor of class B\")\n",
    "class c(a):\n",
    "    def __init__(self):\n",
    "        print(\"constructor of class C\")    \n",
    "class d(a):\n",
    "    def __init__(self):\n",
    "        print(\"constructor of class D\")\n",
    "if __name__==\"__main__\":\n",
    "  ob1=b()  "
   ]
  },
  {
   "cell_type": "code",
   "execution_count": 13,
   "id": "079ed77f-b3c9-4c66-b41f-53895055a1cc",
   "metadata": {},
   "outputs": [
    {
     "name": "stdout",
     "output_type": "stream",
     "text": [
      "constructor of class c\n",
      "fun of class c with 1 2\n"
     ]
    }
   ],
   "source": [
    "class c:\n",
    "    def __init__(self):\n",
    "        print(\"constructor of class c\")\n",
    "    def abc(self,a,b=6):\n",
    "        print(\"fun of class c with\",a,b)\n",
    "ob=c()      \n",
    "\n",
    "ob.abc(1,2)"
   ]
  },
  {
   "cell_type": "code",
   "execution_count": 18,
   "id": "acd65812-089b-4fdc-a0f1-b2b04900091c",
   "metadata": {},
   "outputs": [
    {
     "name": "stdout",
     "output_type": "stream",
     "text": [
      "construction of class c\n",
      "50 60\n"
     ]
    }
   ],
   "source": [
    "#another way\n",
    "class c:\n",
    "    def __init__(self,a=50,b=60):\n",
    "        print(\"construction of class c\")\n",
    "        self.x=a\n",
    "        self.y=b\n",
    "        print(self.x,self.y)\n",
    "ob=c()\n",
    "    "
   ]
  },
  {
   "cell_type": "code",
   "execution_count": 22,
   "id": "976db3e9-9727-4a51-9da0-0d53cfbf3aa4",
   "metadata": {},
   "outputs": [
    {
     "name": "stdout",
     "output_type": "stream",
     "text": [
      "constructor of class c\n"
     ]
    }
   ],
   "source": [
    "#overloading\n",
    "class a:\n",
    "    def __init__(self):\n",
    "        print(\"constructor of class a\")\n",
    "    def show(self):\n",
    "        print(\"printing the show of a\")\n",
    "class b(a):\n",
    "    def __init__(self):\n",
    "        print(\"constructor of class b\")\n",
    "    def show(self):\n",
    "        print(\"printing the show of b\")        \n",
    "class c(a):\n",
    "    def __init__(self):\n",
    "        print(\"constructor of class c\")\n",
    "    def show(self):\n",
    "        print(\"printing the show of c\")\n",
    "        super().show()\n",
    "class d:\n",
    "    def __init__(self):\n",
    "        print(\"constructor of class d\")\n",
    "    def show(self):\n",
    "        print(\"printing the show of d\")\n",
    "if __name__==\"__main__\":\n",
    "    ob1=c()\n",
    "        "
   ]
  },
  {
   "cell_type": "code",
   "execution_count": 23,
   "id": "d5c2d3a7-79ed-4ccd-bfa0-340ebbf0bd79",
   "metadata": {},
   "outputs": [
    {
     "ename": "IndentationError",
     "evalue": "expected an indented block after 'if' statement on line 14 (1380218485.py, line 15)",
     "output_type": "error",
     "traceback": [
      "\u001b[1;36m  Cell \u001b[1;32mIn[23], line 15\u001b[1;36m\u001b[0m\n\u001b[1;33m    pro1=prof_lap(\"7hrs\",\"i5\",8,512)\u001b[0m\n\u001b[1;37m    ^\u001b[0m\n\u001b[1;31mIndentationError\u001b[0m\u001b[1;31m:\u001b[0m expected an indented block after 'if' statement on line 14\n"
     ]
    }
   ],
   "source": [
    "class Laptop:\n",
    "    def __init__(self,p,r,s):\n",
    "                self.processor=p\n",
    "                self.ram=r\n",
    "                self.storage=s\n",
    "class prof_lap(lap):\n",
    "    def __init__(self,bat,p,r,s):\n",
    "        self.battery=bat\n",
    "        super().__init__(p,r,s)\n",
    "class gaming(lap):\n",
    "    def __init__(self,graph,p,r,s):\n",
    "        self.graphic=graph\n",
    "        super().__init__(p,r,s) \n",
    "if __name__==\"__main__\":\n",
    "pro1=prof_lap(\"7hrs\",\"i5\",8,512)\n",
    "print(\"professional laptop\",pro1.processor,pro1.ram,pro1.storage,pro1.battery)\n",
    "print(\"gaming laptop\",gam1.processor,gam1.ram,gam1.storage,gam1.battery)    \n"
   ]
  },
  {
   "cell_type": "code",
   "execution_count": null,
   "id": "a7f6615d-982a-40b8-8c4a-cac43091858c",
   "metadata": {},
   "outputs": [],
   "source": [
    "#write a program to demonstrate the working of railway ticket booking.\n",
    "create required classes like general ticket,sleeper ticket,ac ticket,\n",
    "first class ticket show the uses of inheritance in this and create a proper ticket booking model for indian railway,\n",
    "After booking ticket you have to show\n",
    "the final ticket price to the customer.\n",
    "consider only 3 sources and destination as\n",
    "A = 500kms\n",
    "B = 600kms\n",
    "C = 400kms\n",
    "booking charges:50\n",
    "distance charges:2/km\n",
    "ac charges:4/km\n",
    "first class charges:5/km"
   ]
  },
  {
   "cell_type": "code",
   "execution_count": 36,
   "id": "e5c5d5e6-5c74-466f-95a4-9365eb3d0abf",
   "metadata": {},
   "outputs": [
    {
     "name": "stdout",
     "output_type": "stream",
     "text": [
      "Ticket booked Fare Price will be:  6550\n"
     ]
    }
   ],
   "source": [
    "class ticket:\n",
    "   \n",
    "    def __init__(self,D):\n",
    "        self.distance = int(D)\n",
    "        self.farePrice = None\n",
    "\n",
    "class gen(ticket):\n",
    "    def __init__(self,D):\n",
    "        super().__init__(D)\n",
    "    def print_ticket(self):\n",
    "        self.farePrice=50+(self.distance*2)\n",
    "        return self.farePrice\n",
    "        \n",
    "\n",
    "\n",
    "class slp(gen):\n",
    "    def __init__(self,D):\n",
    "        super().__init__(D)\n",
    "\n",
    "    def print_ticket(self):\n",
    "        self.farePrice=super().print_ticket()+(2*self.distance)\n",
    "        return self.farePrice\n",
    "\n",
    "class AC(slp):\n",
    "    def __init__(self,D):\n",
    "        super().__init__(D)\n",
    "    def print_ticket(self):\n",
    "        self.farePrice=super().print_ticket()+(4*self.distance)\n",
    "        return self.farePrice\n",
    "\n",
    "class FC(AC):\n",
    "    def __init__(self,D):\n",
    "        super().__init__(D)\n",
    "    def print_ticket(self):\n",
    "        self.farePrice=super().print_ticket()+(5*self.distance)\n",
    "        return self.farePrice\n",
    "\n",
    "\n",
    "jur = FC(500)\n",
    "print(\"Ticket booked Fare Price will be: \",jur.print_ticket())"
   ]
  },
  {
   "cell_type": "code",
   "execution_count": null,
   "id": "02d415f1-7617-41cf-8929-fee3764f7d37",
   "metadata": {},
   "outputs": [],
   "source": []
  }
 ],
 "metadata": {
  "kernelspec": {
   "display_name": "Python 3 (ipykernel)",
   "language": "python",
   "name": "python3"
  },
  "language_info": {
   "codemirror_mode": {
    "name": "ipython",
    "version": 3
   },
   "file_extension": ".py",
   "mimetype": "text/x-python",
   "name": "python",
   "nbconvert_exporter": "python",
   "pygments_lexer": "ipython3",
   "version": "3.12.3"
  }
 },
 "nbformat": 4,
 "nbformat_minor": 5
}
